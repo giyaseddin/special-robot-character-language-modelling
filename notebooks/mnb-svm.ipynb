{
 "cells": [
  {
   "cell_type": "code",
   "execution_count": 61,
   "id": "af31ddbf-0f06-4a3a-a964-5039894fbd6c",
   "metadata": {},
   "outputs": [],
   "source": [
    "import pandas as pd\n",
    "from sklearn.feature_extraction.text import TfidfVectorizer\n",
    "from sklearn.model_selection import GridSearchCV\n",
    "from sklearn.metrics import classification_report\n",
    "from sklearn.svm import SVC\n",
    "import numpy as np"
   ]
  },
  {
   "cell_type": "code",
   "execution_count": 23,
   "id": "6c7efa87-3ef0-4ea7-b86c-caaa2e90e5cb",
   "metadata": {},
   "outputs": [],
   "source": [
    "train = pd.read_csv('../data/train.csv', header=None, names=[\"text\"])\n",
    "hidden = pd.read_csv('../data/hidden.csv', header=None, names=[\"text\"])\n",
    "answers = pd.read_csv('../data/answers.csv', header=None, names=[\"text\"])"
   ]
  },
  {
   "cell_type": "code",
   "execution_count": 24,
   "id": "43b01b55-c020-41e0-8f88-74ba10c424ad",
   "metadata": {},
   "outputs": [],
   "source": [
    "def separate_xy(df, prefix=\"train\"):\n",
    "    df[prefix + \"_X\"] = df[\"text\"].apply(lambda x: x[:-1])\n",
    "    df[prefix + \"_y\"] = df[\"text\"].apply(lambda x: x[-1])\n",
    "    return df\n",
    "\n",
    "train = separate_xy(train, 'train')\n",
    "hidden = separate_xy(hidden, 'hidden')\n",
    "answers = separate_xy(answers, 'answers')\n"
   ]
  },
  {
   "cell_type": "code",
   "execution_count": 25,
   "id": "f08e0178-0a82-40ab-a5a3-b4ae1c19432c",
   "metadata": {},
   "outputs": [
    {
     "data": {
      "text/plain": [
       "True"
      ]
     },
     "execution_count": 25,
     "metadata": {},
     "output_type": "execute_result"
    }
   ],
   "source": [
    "# all hidden X values are identical to answers X\n",
    "sum(answers[\"answers_X\"] == hidden[\"hidden_X\"]) == len(answers)"
   ]
  },
  {
   "cell_type": "code",
   "execution_count": 39,
   "id": "b40ca993-e10c-4347-a8a6-33040a429c0d",
   "metadata": {},
   "outputs": [],
   "source": [
    "# TF-IDF Vectorization\n",
    "vectorizer = TfidfVectorizer(analyzer='char', ngram_range=(1,1))\n",
    "train_X_tfidf = vectorizer.fit_transform(train[\"train_X\"])\n",
    "train_y = train[\"train_y\"]\n",
    "\n",
    "test_X_tfidf = vectorizer.transform(answers[\"answers_X\"])\n",
    "test_y = answers[\"answers_y\"]"
   ]
  },
  {
   "cell_type": "code",
   "execution_count": 40,
   "id": "804db3ca-0b33-4de6-b8c8-92e1cf253532",
   "metadata": {},
   "outputs": [
    {
     "data": {
      "text/html": [
       "<style>#sk-container-id-6 {color: black;}#sk-container-id-6 pre{padding: 0;}#sk-container-id-6 div.sk-toggleable {background-color: white;}#sk-container-id-6 label.sk-toggleable__label {cursor: pointer;display: block;width: 100%;margin-bottom: 0;padding: 0.3em;box-sizing: border-box;text-align: center;}#sk-container-id-6 label.sk-toggleable__label-arrow:before {content: \"▸\";float: left;margin-right: 0.25em;color: #696969;}#sk-container-id-6 label.sk-toggleable__label-arrow:hover:before {color: black;}#sk-container-id-6 div.sk-estimator:hover label.sk-toggleable__label-arrow:before {color: black;}#sk-container-id-6 div.sk-toggleable__content {max-height: 0;max-width: 0;overflow: hidden;text-align: left;background-color: #f0f8ff;}#sk-container-id-6 div.sk-toggleable__content pre {margin: 0.2em;color: black;border-radius: 0.25em;background-color: #f0f8ff;}#sk-container-id-6 input.sk-toggleable__control:checked~div.sk-toggleable__content {max-height: 200px;max-width: 100%;overflow: auto;}#sk-container-id-6 input.sk-toggleable__control:checked~label.sk-toggleable__label-arrow:before {content: \"▾\";}#sk-container-id-6 div.sk-estimator input.sk-toggleable__control:checked~label.sk-toggleable__label {background-color: #d4ebff;}#sk-container-id-6 div.sk-label input.sk-toggleable__control:checked~label.sk-toggleable__label {background-color: #d4ebff;}#sk-container-id-6 input.sk-hidden--visually {border: 0;clip: rect(1px 1px 1px 1px);clip: rect(1px, 1px, 1px, 1px);height: 1px;margin: -1px;overflow: hidden;padding: 0;position: absolute;width: 1px;}#sk-container-id-6 div.sk-estimator {font-family: monospace;background-color: #f0f8ff;border: 1px dotted black;border-radius: 0.25em;box-sizing: border-box;margin-bottom: 0.5em;}#sk-container-id-6 div.sk-estimator:hover {background-color: #d4ebff;}#sk-container-id-6 div.sk-parallel-item::after {content: \"\";width: 100%;border-bottom: 1px solid gray;flex-grow: 1;}#sk-container-id-6 div.sk-label:hover label.sk-toggleable__label {background-color: #d4ebff;}#sk-container-id-6 div.sk-serial::before {content: \"\";position: absolute;border-left: 1px solid gray;box-sizing: border-box;top: 0;bottom: 0;left: 50%;z-index: 0;}#sk-container-id-6 div.sk-serial {display: flex;flex-direction: column;align-items: center;background-color: white;padding-right: 0.2em;padding-left: 0.2em;position: relative;}#sk-container-id-6 div.sk-item {position: relative;z-index: 1;}#sk-container-id-6 div.sk-parallel {display: flex;align-items: stretch;justify-content: center;background-color: white;position: relative;}#sk-container-id-6 div.sk-item::before, #sk-container-id-6 div.sk-parallel-item::before {content: \"\";position: absolute;border-left: 1px solid gray;box-sizing: border-box;top: 0;bottom: 0;left: 50%;z-index: -1;}#sk-container-id-6 div.sk-parallel-item {display: flex;flex-direction: column;z-index: 1;position: relative;background-color: white;}#sk-container-id-6 div.sk-parallel-item:first-child::after {align-self: flex-end;width: 50%;}#sk-container-id-6 div.sk-parallel-item:last-child::after {align-self: flex-start;width: 50%;}#sk-container-id-6 div.sk-parallel-item:only-child::after {width: 0;}#sk-container-id-6 div.sk-dashed-wrapped {border: 1px dashed gray;margin: 0 0.4em 0.5em 0.4em;box-sizing: border-box;padding-bottom: 0.4em;background-color: white;}#sk-container-id-6 div.sk-label label {font-family: monospace;font-weight: bold;display: inline-block;line-height: 1.2em;}#sk-container-id-6 div.sk-label-container {text-align: center;}#sk-container-id-6 div.sk-container {/* jupyter's `normalize.less` sets `[hidden] { display: none; }` but bootstrap.min.css set `[hidden] { display: none !important; }` so we also need the `!important` here to be able to override the default hidden behavior on the sphinx rendered scikit-learn.org. See: https://github.com/scikit-learn/scikit-learn/issues/21755 */display: inline-block !important;position: relative;}#sk-container-id-6 div.sk-text-repr-fallback {display: none;}</style><div id=\"sk-container-id-6\" class=\"sk-top-container\"><div class=\"sk-text-repr-fallback\"><pre>MultinomialNB()</pre><b>In a Jupyter environment, please rerun this cell to show the HTML representation or trust the notebook. <br />On GitHub, the HTML representation is unable to render, please try loading this page with nbviewer.org.</b></div><div class=\"sk-container\" hidden><div class=\"sk-item\"><div class=\"sk-estimator sk-toggleable\"><input class=\"sk-toggleable__control sk-hidden--visually\" id=\"sk-estimator-id-6\" type=\"checkbox\" checked><label for=\"sk-estimator-id-6\" class=\"sk-toggleable__label sk-toggleable__label-arrow\">MultinomialNB</label><div class=\"sk-toggleable__content\"><pre>MultinomialNB()</pre></div></div></div></div></div>"
      ],
      "text/plain": [
       "MultinomialNB()"
      ]
     },
     "execution_count": 40,
     "metadata": {},
     "output_type": "execute_result"
    }
   ],
   "source": [
    "from sklearn.naive_bayes import MultinomialNB\n",
    "from sklearn.svm import SVC\n",
    "\n",
    "# Naive Bayes Classifier\n",
    "nb_model = MultinomialNB()\n",
    "nb_model.fit(train_X_tfidf, train_y)\n"
   ]
  },
  {
   "cell_type": "code",
   "execution_count": 41,
   "id": "ebc638d1-f75d-4238-ba26-01f730fb5e4d",
   "metadata": {},
   "outputs": [
    {
     "data": {
      "text/html": [
       "<style>#sk-container-id-7 {color: black;}#sk-container-id-7 pre{padding: 0;}#sk-container-id-7 div.sk-toggleable {background-color: white;}#sk-container-id-7 label.sk-toggleable__label {cursor: pointer;display: block;width: 100%;margin-bottom: 0;padding: 0.3em;box-sizing: border-box;text-align: center;}#sk-container-id-7 label.sk-toggleable__label-arrow:before {content: \"▸\";float: left;margin-right: 0.25em;color: #696969;}#sk-container-id-7 label.sk-toggleable__label-arrow:hover:before {color: black;}#sk-container-id-7 div.sk-estimator:hover label.sk-toggleable__label-arrow:before {color: black;}#sk-container-id-7 div.sk-toggleable__content {max-height: 0;max-width: 0;overflow: hidden;text-align: left;background-color: #f0f8ff;}#sk-container-id-7 div.sk-toggleable__content pre {margin: 0.2em;color: black;border-radius: 0.25em;background-color: #f0f8ff;}#sk-container-id-7 input.sk-toggleable__control:checked~div.sk-toggleable__content {max-height: 200px;max-width: 100%;overflow: auto;}#sk-container-id-7 input.sk-toggleable__control:checked~label.sk-toggleable__label-arrow:before {content: \"▾\";}#sk-container-id-7 div.sk-estimator input.sk-toggleable__control:checked~label.sk-toggleable__label {background-color: #d4ebff;}#sk-container-id-7 div.sk-label input.sk-toggleable__control:checked~label.sk-toggleable__label {background-color: #d4ebff;}#sk-container-id-7 input.sk-hidden--visually {border: 0;clip: rect(1px 1px 1px 1px);clip: rect(1px, 1px, 1px, 1px);height: 1px;margin: -1px;overflow: hidden;padding: 0;position: absolute;width: 1px;}#sk-container-id-7 div.sk-estimator {font-family: monospace;background-color: #f0f8ff;border: 1px dotted black;border-radius: 0.25em;box-sizing: border-box;margin-bottom: 0.5em;}#sk-container-id-7 div.sk-estimator:hover {background-color: #d4ebff;}#sk-container-id-7 div.sk-parallel-item::after {content: \"\";width: 100%;border-bottom: 1px solid gray;flex-grow: 1;}#sk-container-id-7 div.sk-label:hover label.sk-toggleable__label {background-color: #d4ebff;}#sk-container-id-7 div.sk-serial::before {content: \"\";position: absolute;border-left: 1px solid gray;box-sizing: border-box;top: 0;bottom: 0;left: 50%;z-index: 0;}#sk-container-id-7 div.sk-serial {display: flex;flex-direction: column;align-items: center;background-color: white;padding-right: 0.2em;padding-left: 0.2em;position: relative;}#sk-container-id-7 div.sk-item {position: relative;z-index: 1;}#sk-container-id-7 div.sk-parallel {display: flex;align-items: stretch;justify-content: center;background-color: white;position: relative;}#sk-container-id-7 div.sk-item::before, #sk-container-id-7 div.sk-parallel-item::before {content: \"\";position: absolute;border-left: 1px solid gray;box-sizing: border-box;top: 0;bottom: 0;left: 50%;z-index: -1;}#sk-container-id-7 div.sk-parallel-item {display: flex;flex-direction: column;z-index: 1;position: relative;background-color: white;}#sk-container-id-7 div.sk-parallel-item:first-child::after {align-self: flex-end;width: 50%;}#sk-container-id-7 div.sk-parallel-item:last-child::after {align-self: flex-start;width: 50%;}#sk-container-id-7 div.sk-parallel-item:only-child::after {width: 0;}#sk-container-id-7 div.sk-dashed-wrapped {border: 1px dashed gray;margin: 0 0.4em 0.5em 0.4em;box-sizing: border-box;padding-bottom: 0.4em;background-color: white;}#sk-container-id-7 div.sk-label label {font-family: monospace;font-weight: bold;display: inline-block;line-height: 1.2em;}#sk-container-id-7 div.sk-label-container {text-align: center;}#sk-container-id-7 div.sk-container {/* jupyter's `normalize.less` sets `[hidden] { display: none; }` but bootstrap.min.css set `[hidden] { display: none !important; }` so we also need the `!important` here to be able to override the default hidden behavior on the sphinx rendered scikit-learn.org. See: https://github.com/scikit-learn/scikit-learn/issues/21755 */display: inline-block !important;position: relative;}#sk-container-id-7 div.sk-text-repr-fallback {display: none;}</style><div id=\"sk-container-id-7\" class=\"sk-top-container\"><div class=\"sk-text-repr-fallback\"><pre>SVC(probability=True)</pre><b>In a Jupyter environment, please rerun this cell to show the HTML representation or trust the notebook. <br />On GitHub, the HTML representation is unable to render, please try loading this page with nbviewer.org.</b></div><div class=\"sk-container\" hidden><div class=\"sk-item\"><div class=\"sk-estimator sk-toggleable\"><input class=\"sk-toggleable__control sk-hidden--visually\" id=\"sk-estimator-id-7\" type=\"checkbox\" checked><label for=\"sk-estimator-id-7\" class=\"sk-toggleable__label sk-toggleable__label-arrow\">SVC</label><div class=\"sk-toggleable__content\"><pre>SVC(probability=True)</pre></div></div></div></div></div>"
      ],
      "text/plain": [
       "SVC(probability=True)"
      ]
     },
     "execution_count": 41,
     "metadata": {},
     "output_type": "execute_result"
    }
   ],
   "source": [
    "\n",
    "# SVM Classifier\n",
    "svm_model = SVC(probability=True)\n",
    "svm_model.fit(train_X_tfidf, train_y)\n"
   ]
  },
  {
   "cell_type": "code",
   "execution_count": 43,
   "id": "a40cc581-b2b6-4c56-8e6e-6908e3d258ca",
   "metadata": {},
   "outputs": [
    {
     "name": "stdout",
     "output_type": "stream",
     "text": [
      "Naive Bayes Predictions: ['S' '1' '2' 'R' 'S' 'S' '1' 'S' 'R' 'G' 'S' '2' 'S' 'S' 'S' 'R' 'S' 'S'\n",
      " 'S' 'P' '2' 'S' 'P' 'S' 'R' 'R' 'S' 'R' 'R' 'P' 'S' 'S' 'P' 'S' 'G' 'R'\n",
      " 'G' 'S' 'P' '2' 'S' 'R' 'R' 'R' '1' 'S' 'S' 'S' 'P' 'S' 'K' 'R' 'G' 'K'\n",
      " 'P' 'G' 'S' 'R' '2' 'S' '2' 'S' 'S' 'P' 'R' 'S' '1' 'R' 'S' 'S' 'R' '2'\n",
      " 'R' 'K' 'P' 'S' '2' 'S' 'R' 'R' '2' 'R' 'S' 'R' 'S' 'S' 'P' 'S' 'K' 'S'\n",
      " 'S' 'P' 'G' 'S' 'P' 'R' 'P' 'G' 'S' 'K' 'P' 'P' 'S' 'R' '2' '2' '2' 'P'\n",
      " 'S' 'G' 'G' 'P' 'P' 'S' 'G' 'K' 'R' 'S' 'G' 'S' 'S' 'R' 'S' 'P' 'G' 'R'\n",
      " 'S' 'P' 'R' '2' 'P' '2' 'S' 'P' 'G' 'K' 'P' 'S' 'R' 'S' 'S' '1' 'R' 'G'\n",
      " 'S' '2' 'R' 'R' 'R' 'P' '2' 'G' 'R' 'G' '1' 'K' 'S' 'S' 'S' 'R' 'S' 'R'\n",
      " 'P' 'S' 'W' 'K' 'R' 'P' 'S' '2' 'S' 'P' 'P' '2' '2' 'S' '1' 'S' 'R' 'P'\n",
      " 'P' 'S' 'G' '1' '1' '2' 'P' 'P' 'S' 'G' 'K' 'S' '1' 'R' 'P' 'K' 'S' 'R'\n",
      " 'S' 'S' 'G' '2' 'G' '2' 'P' '2' 'S' '1' 'G' 'P' 'S' 'S' 'S' 'R' 'R' '1'\n",
      " 'K' 'S' 'K' 'S' 'R' 'P' 'S' 'S' 'G' 'S' 'S' 'S' 'S' '2' 'S' 'P' 'S' 'S'\n",
      " 'S' 'S' 'R' 'P' 'R' 'S' 'P' 'R' 'P' '2' 'R' 'R' 'P' 'P' '2' 'G' '1' 'R'\n",
      " 'P' 'S' '2' 'S' 'R' 'R' 'R' 'S' 'E' 'S' 'P' 'P' 'S' 'R' 'G' 'S' '2' 'R'\n",
      " 'R' 'P' 'S' 'R' 'S' 'P' '2' 'R' 'P' 'R' 'S' 'P' 'R' 'P' 'S' 'P' 'S' 'R'\n",
      " 'R' 'R' 'S' '1' 'P' 'S' 'P' 'P' 'G' 'S' '2' 'G' 'P' 'P' 'G' 'S' 'S' 'R'\n",
      " 'R' 'S' 'S' 'S' 'R' 'P' 'G' 'S' 'S' 'R' 'P' 'P' '2' 'S' 'R' 'R' 'S' 'R'\n",
      " '2' 'R' 'S' 'R' 'P' 'R' 'G' 'R' 'P' 'R' 'P' 'S' '2' 'P' 'R' 'R' 'S' 'S'\n",
      " 'R' 'R' 'P' '2' '2' 'S' 'R' 'R' 'S' 'R' 'S' '2' '2' 'S' 'R' 'S' 'G' '2'\n",
      " 'G' 'S' 'G' 'S' 'R' 'R' 'S' 'S' 'K' 'R' 'P' 'S' 'S' 'G' 'R' 'G' 'R' 'R'\n",
      " 'P']\n",
      "SVM Predictions: ['S' '1' '2' 'R' '1' 'T' '1' 'M' 'P' 'G' 'S' '2' 'M' 'R' 'S' 'P' 'R' 'R'\n",
      " 'S' '2' 'S' 'R' 'P' 'S' 'R' 'R' 'G' 'P' 'G' 'P' 'M' 'R' '5' '2' 'G' 'R'\n",
      " 'G' 'M' 'P' '2' 'M' 'G' 'S' 'G' '1' 'S' 'M' 'S' 'P' 'R' 'K' 'G' 'G' 'S'\n",
      " 'P' 'G' 'S' 'G' 'I' 'M' '2' 'E' 'K' 'P' 'R' 'R' '1' 'E' 'M' 'S' 'P' '2'\n",
      " 'R' 'K' 'P' 'R' '2' 'R' 'R' 'P' '2' 'G' 'M' 'R' 'M' '2' 'P' 'M' 'K' 'M'\n",
      " 'P' 'P' 'G' 'S' 'P' 'R' 'P' 'G' 'A' 'F' 'P' 'P' 'T' 'R' 'T' '2' '2' 'P'\n",
      " 'S' 'G' 'G' 'P' 'P' 'S' 'G' 'K' 'R' 'P' 'G' '2' 'S' 'R' 'R' 'E' 'R' 'R'\n",
      " 'T' 'P' 'R' '2' 'E' '2' 'M' 'P' 'G' 'K' 'H' 'R' 'R' 'P' 'S' '1' 'R' 'R'\n",
      " 'S' '2' 'R' 'P' 'S' 'P' '2' 'G' 'R' 'G' '1' 'K' 'R' 'S' 'T' 'R' 'G' 'R'\n",
      " 'P' 'P' 'P' 'K' 'R' 'P' 'M' '2' 'T' 'P' 'P' 'S' 'T' 'S' '1' '2' 'S' 'P'\n",
      " 'P' 'M' 'G' '1' '1' 'S' 'P' 'P' 'S' 'G' 'K' 'R' '1' 'R' 'P' 'K' 'S' 'R'\n",
      " 'S' 'R' 'R' '2' 'G' 'K' 'P' '2' 'M' 'R' 'G' 'P' 'R' 'M' 'R' 'R' 'E' '1'\n",
      " 'K' 'E' 'K' 'S' 'P' 'P' 'S' 'P' 'G' 'M' 'P' 'G' 'M' '2' '2' 'P' 'S' 'R'\n",
      " 'M' 'T' 'G' 'P' 'R' 'M' 'P' 'G' 'P' 'R' 'P' 'S' 'P' 'P' 'S' 'G' '1' 'P'\n",
      " 'P' 'S' '2' 'S' 'R' 'R' 'R' 'R' 'E' 'S' 'P' 'P' 'T' 'R' 'R' 'M' '2' 'R'\n",
      " 'R' 'P' 'M' 'R' 'S' 'P' '2' 'R' 'P' 'R' '2' 'P' 'R' 'P' 'M' 'P' 'S' 'S'\n",
      " 'R' 'P' 'M' 'R' 'P' 'R' 'P' 'P' 'G' 'T' '2' 'R' 'P' 'P' 'G' 'S' 'M' 'R'\n",
      " 'R' 'P' 'S' 'R' 'P' 'P' 'R' 'S' 'M' 'R' 'P' 'P' '2' 'S' 'R' 'R' 'M' 'R'\n",
      " 'P' 'E' 'M' 'R' 'P' 'G' 'G' 'R' 'P' 'P' 'P' 'R' '2' 'P' 'R' 'R' 'E' 'R'\n",
      " 'R' 'R' 'P' '2' '2' 'S' 'R' 'P' 'P' 'P' 'M' '2' '2' 'S' 'R' 'S' 'R' '2'\n",
      " 'G' 'R' 'G' 'M' 'I' 'R' 'T' 'K' 'K' 'R' 'P' 'M' 'S' 'G' 'R' 'G' 'P' 'R'\n",
      " 'P']\n"
     ]
    }
   ],
   "source": [
    "# Predict with Naive Bayes\n",
    "nb_predictions = nb_model.predict(test_X_tfidf)\n",
    "\n",
    "# Predict with SVM\n",
    "svm_predictions = svm_model.predict(test_X_tfidf)\n",
    "\n",
    "print(\"Naive Bayes Predictions:\", nb_predictions)\n",
    "print(\"SVM Predictions:\", svm_predictions)\n"
   ]
  },
  {
   "cell_type": "code",
   "execution_count": 55,
   "id": "e2d9e240-8c01-4a0d-8fd4-26a1d544475a",
   "metadata": {},
   "outputs": [
    {
     "data": {
      "text/plain": [
       "0.5408970976253298"
      ]
     },
     "execution_count": 55,
     "metadata": {},
     "output_type": "execute_result"
    }
   ],
   "source": [
    "sum(np.array(test_y) == nb_predictions) / len(test_y)"
   ]
  },
  {
   "cell_type": "code",
   "execution_count": 56,
   "id": "854b7039-61d7-4ee5-87e0-434be5f632ed",
   "metadata": {},
   "outputs": [
    {
     "data": {
      "text/plain": [
       "0.7255936675461742"
      ]
     },
     "execution_count": 56,
     "metadata": {},
     "output_type": "execute_result"
    }
   ],
   "source": [
    "sum(np.array(test_y) == svm_predictions) / len(test_y)"
   ]
  },
  {
   "cell_type": "code",
   "execution_count": null,
   "id": "513d9006-b9d9-4f72-8e6e-85f656b27ed5",
   "metadata": {},
   "outputs": [],
   "source": [
    "# Great!! we got 72.5% with a no-brainer SVM clf for now. Let's explore different kernels"
   ]
  },
  {
   "cell_type": "code",
   "execution_count": 60,
   "id": "add5f05d-66d2-4ad4-be19-a7b6217fa8c0",
   "metadata": {},
   "outputs": [
    {
     "data": {
      "text/plain": [
       "0.7255936675461742"
      ]
     },
     "execution_count": 60,
     "metadata": {},
     "output_type": "execute_result"
    }
   ],
   "source": [
    "# SVM Classifier\n",
    "svm_rbf = SVC(kernel='rbf', probability=True)\n",
    "svm_rbf.fit(train_X_tfidf, train_y)\n",
    "\n",
    "svm_rbf_predictions = svm_rbf.predict(test_X_tfidf)\n",
    "\n",
    "sum(np.array(test_y) == svm_rbf_predictions) / len(test_y)"
   ]
  },
  {
   "cell_type": "code",
   "execution_count": null,
   "id": "f4c22d24-f522-4855-a61e-7779e343fae4",
   "metadata": {},
   "outputs": [],
   "source": [
    "\n"
   ]
  },
  {
   "cell_type": "code",
   "execution_count": 59,
   "id": "940fa6ee-a72a-4fc6-9f07-e8e572d4e743",
   "metadata": {},
   "outputs": [
    {
     "data": {
      "text/plain": [
       "0.6912928759894459"
      ]
     },
     "execution_count": 59,
     "metadata": {},
     "output_type": "execute_result"
    }
   ],
   "source": [
    "\n",
    "# SVM Classifier\n",
    "svm_poly = SVC(kernel='poly', degree=3, probability=True)\n",
    "svm_poly.fit(train_X_tfidf, train_y)\n",
    "\n",
    "svm_poly_predictions = svm_poly.predict(test_X_tfidf)\n",
    "\n",
    "sum(np.array(test_y) == svm_poly_predictions) / len(test_y)"
   ]
  },
  {
   "cell_type": "code",
   "execution_count": 75,
   "id": "4d62cd9c-767a-43b5-9e43-8576aa6623df",
   "metadata": {
    "scrolled": true
   },
   "outputs": [
    {
     "name": "stdout",
     "output_type": "stream",
     "text": [
      "Fitting 5 folds for each of 7 candidates, totalling 35 fits\n"
     ]
    },
    {
     "name": "stderr",
     "output_type": "stream",
     "text": [
      "/home/giyaseddin/miniconda3/envs/chatbot-special-language-modelling-assignment/lib/python3.11/site-packages/sklearn/model_selection/_split.py:737: UserWarning: The least populated class in y has only 1 members, which is less than n_splits=5.\n",
      "  warnings.warn(\n"
     ]
    },
    {
     "name": "stdout",
     "output_type": "stream",
     "text": [
      "[CV 1/5] END ....C=0.7, gamma=scale, kernel=rbf;, score=0.281 total time=   1.6s\n",
      "[CV 2/5] END ....C=0.7, gamma=scale, kernel=rbf;, score=0.306 total time=   1.6s\n",
      "[CV 3/5] END ....C=0.7, gamma=scale, kernel=rbf;, score=0.299 total time=   1.6s\n",
      "[CV 4/5] END ....C=0.7, gamma=scale, kernel=rbf;, score=0.311 total time=   1.5s\n",
      "[CV 5/5] END ....C=0.7, gamma=scale, kernel=rbf;, score=0.331 total time=   1.5s\n",
      "[CV 1/5] END ...C=0.75, gamma=scale, kernel=rbf;, score=0.289 total time=   1.7s\n",
      "[CV 2/5] END ...C=0.75, gamma=scale, kernel=rbf;, score=0.308 total time=   1.7s\n",
      "[CV 3/5] END ...C=0.75, gamma=scale, kernel=rbf;, score=0.299 total time=   1.6s\n",
      "[CV 4/5] END ...C=0.75, gamma=scale, kernel=rbf;, score=0.313 total time=   1.5s\n",
      "[CV 5/5] END ...C=0.75, gamma=scale, kernel=rbf;, score=0.333 total time=   1.5s\n",
      "[CV 1/5] END ....C=0.8, gamma=scale, kernel=rbf;, score=0.289 total time=   1.5s\n",
      "[CV 2/5] END ....C=0.8, gamma=scale, kernel=rbf;, score=0.314 total time=   1.5s\n",
      "[CV 3/5] END ....C=0.8, gamma=scale, kernel=rbf;, score=0.305 total time=   1.5s\n",
      "[CV 4/5] END ....C=0.8, gamma=scale, kernel=rbf;, score=0.317 total time=   2.5s\n",
      "[CV 5/5] END ....C=0.8, gamma=scale, kernel=rbf;, score=0.343 total time=   1.9s\n",
      "[CV 1/5] END ...C=0.85, gamma=scale, kernel=rbf;, score=0.291 total time=   1.5s\n",
      "[CV 2/5] END ...C=0.85, gamma=scale, kernel=rbf;, score=0.312 total time=   1.6s\n",
      "[CV 3/5] END ...C=0.85, gamma=scale, kernel=rbf;, score=0.306 total time=   1.5s\n",
      "[CV 4/5] END ...C=0.85, gamma=scale, kernel=rbf;, score=0.319 total time=   1.5s\n",
      "[CV 5/5] END ...C=0.85, gamma=scale, kernel=rbf;, score=0.335 total time=   1.5s\n",
      "[CV 1/5] END ....C=0.9, gamma=scale, kernel=rbf;, score=0.289 total time=   1.6s\n",
      "[CV 2/5] END ....C=0.9, gamma=scale, kernel=rbf;, score=0.312 total time=   1.5s\n",
      "[CV 3/5] END ....C=0.9, gamma=scale, kernel=rbf;, score=0.308 total time=   1.7s\n",
      "[CV 4/5] END ....C=0.9, gamma=scale, kernel=rbf;, score=0.319 total time=   1.6s\n",
      "[CV 5/5] END ....C=0.9, gamma=scale, kernel=rbf;, score=0.335 total time=   1.6s\n",
      "[CV 1/5] END ...C=0.95, gamma=scale, kernel=rbf;, score=0.277 total time=   1.6s\n",
      "[CV 2/5] END ...C=0.95, gamma=scale, kernel=rbf;, score=0.312 total time=   1.5s\n",
      "[CV 3/5] END ...C=0.95, gamma=scale, kernel=rbf;, score=0.303 total time=   1.5s\n",
      "[CV 4/5] END ...C=0.95, gamma=scale, kernel=rbf;, score=0.317 total time=   1.6s\n",
      "[CV 5/5] END ...C=0.95, gamma=scale, kernel=rbf;, score=0.339 total time=   1.5s\n",
      "[CV 1/5] END ......C=1, gamma=scale, kernel=rbf;, score=0.277 total time=   1.5s\n",
      "[CV 2/5] END ......C=1, gamma=scale, kernel=rbf;, score=0.312 total time=   1.6s\n",
      "[CV 3/5] END ......C=1, gamma=scale, kernel=rbf;, score=0.310 total time=   1.7s\n",
      "[CV 4/5] END ......C=1, gamma=scale, kernel=rbf;, score=0.317 total time=   1.7s\n",
      "[CV 5/5] END ......C=1, gamma=scale, kernel=rbf;, score=0.341 total time=   1.6s\n",
      "Best parameters found:  {'C': 0.8, 'gamma': 'scale', 'kernel': 'rbf'}\n",
      "Accuracy: 0.7308707124010554\n",
      "              precision    recall  f1-score   support\n",
      "\n",
      "           1       0.92      0.71      0.80        17\n",
      "           2       0.71      0.64      0.68        39\n",
      "           A       1.00      0.50      0.67         2\n",
      "           E       0.38      1.00      0.55         3\n",
      "           F       0.00      0.00      0.00         0\n",
      "           G       0.62      0.93      0.75        27\n",
      "           I       0.50      1.00      0.67         1\n",
      "           J       0.00      0.00      0.00         9\n",
      "           K       0.73      0.92      0.81        12\n",
      "           M       0.78      0.89      0.83        28\n",
      "           P       0.98      0.77      0.86       111\n",
      "           R       0.75      0.71      0.73        92\n",
      "           S       0.35      0.75      0.48        24\n",
      "           T       0.83      0.36      0.50        14\n",
      "\n",
      "    accuracy                           0.73       379\n",
      "   macro avg       0.61      0.66      0.59       379\n",
      "weighted avg       0.77      0.73      0.73       379\n",
      "\n"
     ]
    },
    {
     "name": "stderr",
     "output_type": "stream",
     "text": [
      "/home/giyaseddin/miniconda3/envs/chatbot-special-language-modelling-assignment/lib/python3.11/site-packages/sklearn/metrics/_classification.py:1471: UndefinedMetricWarning: Precision and F-score are ill-defined and being set to 0.0 in labels with no predicted samples. Use `zero_division` parameter to control this behavior.\n",
      "  _warn_prf(average, modifier, msg_start, len(result))\n",
      "/home/giyaseddin/miniconda3/envs/chatbot-special-language-modelling-assignment/lib/python3.11/site-packages/sklearn/metrics/_classification.py:1471: UndefinedMetricWarning: Recall and F-score are ill-defined and being set to 0.0 in labels with no true samples. Use `zero_division` parameter to control this behavior.\n",
      "  _warn_prf(average, modifier, msg_start, len(result))\n",
      "/home/giyaseddin/miniconda3/envs/chatbot-special-language-modelling-assignment/lib/python3.11/site-packages/sklearn/metrics/_classification.py:1471: UndefinedMetricWarning: Precision and F-score are ill-defined and being set to 0.0 in labels with no predicted samples. Use `zero_division` parameter to control this behavior.\n",
      "  _warn_prf(average, modifier, msg_start, len(result))\n",
      "/home/giyaseddin/miniconda3/envs/chatbot-special-language-modelling-assignment/lib/python3.11/site-packages/sklearn/metrics/_classification.py:1471: UndefinedMetricWarning: Recall and F-score are ill-defined and being set to 0.0 in labels with no true samples. Use `zero_division` parameter to control this behavior.\n",
      "  _warn_prf(average, modifier, msg_start, len(result))\n",
      "/home/giyaseddin/miniconda3/envs/chatbot-special-language-modelling-assignment/lib/python3.11/site-packages/sklearn/metrics/_classification.py:1471: UndefinedMetricWarning: Precision and F-score are ill-defined and being set to 0.0 in labels with no predicted samples. Use `zero_division` parameter to control this behavior.\n",
      "  _warn_prf(average, modifier, msg_start, len(result))\n",
      "/home/giyaseddin/miniconda3/envs/chatbot-special-language-modelling-assignment/lib/python3.11/site-packages/sklearn/metrics/_classification.py:1471: UndefinedMetricWarning: Recall and F-score are ill-defined and being set to 0.0 in labels with no true samples. Use `zero_division` parameter to control this behavior.\n",
      "  _warn_prf(average, modifier, msg_start, len(result))\n"
     ]
    }
   ],
   "source": [
    "\n",
    "# Assuming train_X_tfidf and train_y are already defined\n",
    "\n",
    "# Define the parameter grid: specify the parameters and their possible values\n",
    "param_grid = {\n",
    "    'C': [0.7, 0.75, 0.8, 0.85, 0.9, 0.95, 1, ],  # Regularization parameter\n",
    "    'gamma': ['scale'],  # Kernel coefficient for 'rbf', 'poly' and 'sigmoid'\n",
    "    'kernel': ['rbf']  # Different kernels\n",
    "}\n",
    "\n",
    "# Create a GridSearchCV object\n",
    "grid_search = GridSearchCV(SVC(probability=True), param_grid, refit=True, verbose=3, cv=5) # 5-fold cross-validation\n",
    "\n",
    "# Fit the model on the training data\n",
    "grid_search.fit(train_X_tfidf, train_y)\n",
    "\n",
    "# Print the best parameters found\n",
    "print(\"Best parameters found: \", grid_search.best_params_)\n",
    "\n",
    "# Predict on the test set using the best model\n",
    "best_svm = grid_search.best_estimator_\n",
    "svm_predictions = best_svm.predict(test_X_tfidf)\n",
    "\n",
    "# Calculate and print the accuracy\n",
    "accuracy = sum(np.array(test_y) == svm_predictions) / len(test_y)\n",
    "print(\"Accuracy:\", accuracy)\n",
    "\n",
    "# Optionally, print a detailed classification report\n",
    "print(classification_report(test_y, svm_predictions))\n"
   ]
  },
  {
   "cell_type": "code",
   "execution_count": 85,
   "id": "6d467d0d-304d-4c86-803f-80d95b1f878a",
   "metadata": {},
   "outputs": [
    {
     "data": {
      "text/plain": [
       "0.7308707124010554"
      ]
     },
     "execution_count": 85,
     "metadata": {},
     "output_type": "execute_result"
    }
   ],
   "source": [
    "\n",
    "# Best SVM Classifier\n",
    "svm_best = SVC(**{'C': 0.80, 'gamma': 'scale', 'kernel': 'rbf'}, probability=True)\n",
    "svm_best.fit(train_X_tfidf, train_y)\n",
    "\n",
    "svm_best_predictions = svm_best.predict(test_X_tfidf)\n",
    "\n",
    "sum(np.array(test_y) == svm_best_predictions) / len(test_y)"
   ]
  },
  {
   "cell_type": "code",
   "execution_count": null,
   "id": "e7006778-4e93-4ec6-80a3-823763963d42",
   "metadata": {},
   "outputs": [],
   "source": []
  }
 ],
 "metadata": {
  "kernelspec": {
   "display_name": "Python 3 (ipykernel)",
   "language": "python",
   "name": "python3"
  },
  "language_info": {
   "codemirror_mode": {
    "name": "ipython",
    "version": 3
   },
   "file_extension": ".py",
   "mimetype": "text/x-python",
   "name": "python",
   "nbconvert_exporter": "python",
   "pygments_lexer": "ipython3",
   "version": "3.11.6"
  }
 },
 "nbformat": 4,
 "nbformat_minor": 5
}
